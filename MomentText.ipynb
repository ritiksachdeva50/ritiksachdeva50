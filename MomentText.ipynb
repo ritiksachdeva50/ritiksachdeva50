{
  "nbformat": 4,
  "nbformat_minor": 0,
  "metadata": {
    "colab": {
      "provenance": [],
      "authorship_tag": "ABX9TyPvOZVgvF5ElJMI+Tzm6VcB",
      "include_colab_link": true
    },
    "kernelspec": {
      "name": "python3",
      "display_name": "Python 3"
    },
    "language_info": {
      "name": "python"
    }
  },
  "cells": [
    {
      "cell_type": "markdown",
      "metadata": {
        "id": "view-in-github",
        "colab_type": "text"
      },
      "source": [
        "<a href=\"https://colab.research.google.com/github/ritiksachdeva50/ritiksachdeva50/blob/main/MomentText.ipynb\" target=\"_parent\"><img src=\"https://colab.research.google.com/assets/colab-badge.svg\" alt=\"Open In Colab\"/></a>"
      ]
    },
    {
      "cell_type": "code",
      "execution_count": 1,
      "metadata": {
        "id": "0Bi8uQFb3d3o"
      },
      "outputs": [],
      "source": [
        "import pandas as pd\n",
        "import numpy as np\n",
        "import matplotlib.pyplot as plt\n",
        "import datetime\n",
        "from  statsmodels.tsa.seasonal import seasonal_decompose \n",
        "from statsmodels.tsa.stattools import adfuller\n",
        "from statsmodels.graphics.tsaplots import plot_acf, plot_pacf\n",
        "from xgboost import XGBRegressor"
      ]
    },
    {
      "cell_type": "code",
      "source": [
        "data = pd.read_excel(\"Data.xlsx\")"
      ],
      "metadata": {
        "id": "MtWw-eaJ3kmw"
      },
      "execution_count": 2,
      "outputs": []
    },
    {
      "cell_type": "code",
      "source": [
        "data = data.T"
      ],
      "metadata": {
        "id": "9LO55n4A3rl-"
      },
      "execution_count": 3,
      "outputs": []
    },
    {
      "cell_type": "code",
      "source": [
        "data"
      ],
      "metadata": {
        "colab": {
          "base_uri": "https://localhost:8080/",
          "height": 423
        },
        "id": "u8VRXktR3si9",
        "outputId": "0d0d1ff2-193e-4cb1-d340-128c44ec3770"
      },
      "execution_count": 4,
      "outputs": [
        {
          "output_type": "execute_result",
          "data": {
            "text/plain": [
              "                                 0            1                 2          3   \\\n",
              "Unnamed: 0           Floor Clearner  Cillit Bang  Personal Hygiene     Dettol   \n",
              "2017-01-01 00:00:00      909.468989    32.561198        431.913889  26.572778   \n",
              "2017-02-01 00:00:00      851.671555    30.219044        409.527222  26.163889   \n",
              "2017-03-01 00:00:00      937.006869    31.627483        450.847778  28.918889   \n",
              "2017-04-01 00:00:00      935.302862    31.114598        440.086944  27.579444   \n",
              "...                             ...          ...               ...        ...   \n",
              "2021-11-01 00:00:00     1298.971812    77.790926        540.738097  69.206467   \n",
              "2021-12-01 00:00:00     1302.302088    79.036412        553.377814  75.698561   \n",
              "2022-01-01 00:00:00     1283.338493    83.834738          525.3312  74.464933   \n",
              "2022-02-01 00:00:00     1186.832309    75.809074        497.620408    70.4872   \n",
              "2022-03-01 00:00:00     1264.905228    83.277179        520.224925  75.485156   \n",
              "\n",
              "                                 4           5             6           7   \\\n",
              "Unnamed: 0           Toilet Cleaner      Harpic  Home Cleaner       Lysol   \n",
              "2017-01-01 00:00:00      283.444882  120.857957    729.295651   68.369605   \n",
              "2017-02-01 00:00:00      264.402671  111.951893    674.215247   65.843125   \n",
              "2017-03-01 00:00:00      276.785593  113.403368    724.049595   68.551542   \n",
              "2017-04-01 00:00:00      236.544673   94.918867    672.173027   62.803912   \n",
              "...                             ...         ...           ...         ...   \n",
              "2021-11-01 00:00:00      450.314204  173.086311   1178.995674   106.21171   \n",
              "2021-12-01 00:00:00      469.638613  181.333138   1197.025564  102.101606   \n",
              "2022-01-01 00:00:00      527.337742  196.893796    1160.45293   97.263686   \n",
              "2022-02-01 00:00:00      433.366044  160.152569   1036.433161   89.849796   \n",
              "2022-03-01 00:00:00      428.701547  160.503253   1091.887881   95.845239   \n",
              "\n",
              "                               8            9            10          11  \n",
              "Unnamed: 0           Insecticides      Mortein   Detergents      Vanish  \n",
              "2017-01-01 00:00:00   1348.976422   669.281655  3217.018108  163.745447  \n",
              "2017-02-01 00:00:00   1301.882169    649.75143  2983.283217  155.638622  \n",
              "2017-03-01 00:00:00      1522.646   757.026179  3312.224612   170.24169  \n",
              "2017-04-01 00:00:00   1567.866984   798.109209  3119.252426  155.749329  \n",
              "...                           ...          ...          ...         ...  \n",
              "2021-11-01 00:00:00   2569.867662  1286.520889  6107.245227  189.934389  \n",
              "2021-12-01 00:00:00     2581.9008  1289.824142  6068.604018  184.077807  \n",
              "2022-01-01 00:00:00   2477.665564  1240.617956  6508.452978  194.767029  \n",
              "2022-02-01 00:00:00   2288.509156  1127.767111    5955.0464  167.974653  \n",
              "2022-03-01 00:00:00    2498.62144  1243.674453  5780.733156  168.504398  \n",
              "\n",
              "[64 rows x 12 columns]"
            ],
            "text/html": [
              "\n",
              "  <div id=\"df-a204182d-c5ac-4211-8651-fd3e18135066\">\n",
              "    <div class=\"colab-df-container\">\n",
              "      <div>\n",
              "<style scoped>\n",
              "    .dataframe tbody tr th:only-of-type {\n",
              "        vertical-align: middle;\n",
              "    }\n",
              "\n",
              "    .dataframe tbody tr th {\n",
              "        vertical-align: top;\n",
              "    }\n",
              "\n",
              "    .dataframe thead th {\n",
              "        text-align: right;\n",
              "    }\n",
              "</style>\n",
              "<table border=\"1\" class=\"dataframe\">\n",
              "  <thead>\n",
              "    <tr style=\"text-align: right;\">\n",
              "      <th></th>\n",
              "      <th>0</th>\n",
              "      <th>1</th>\n",
              "      <th>2</th>\n",
              "      <th>3</th>\n",
              "      <th>4</th>\n",
              "      <th>5</th>\n",
              "      <th>6</th>\n",
              "      <th>7</th>\n",
              "      <th>8</th>\n",
              "      <th>9</th>\n",
              "      <th>10</th>\n",
              "      <th>11</th>\n",
              "    </tr>\n",
              "  </thead>\n",
              "  <tbody>\n",
              "    <tr>\n",
              "      <th>Unnamed: 0</th>\n",
              "      <td>Floor Clearner</td>\n",
              "      <td>Cillit Bang</td>\n",
              "      <td>Personal Hygiene</td>\n",
              "      <td>Dettol</td>\n",
              "      <td>Toilet Cleaner</td>\n",
              "      <td>Harpic</td>\n",
              "      <td>Home Cleaner</td>\n",
              "      <td>Lysol</td>\n",
              "      <td>Insecticides</td>\n",
              "      <td>Mortein</td>\n",
              "      <td>Detergents</td>\n",
              "      <td>Vanish</td>\n",
              "    </tr>\n",
              "    <tr>\n",
              "      <th>2017-01-01 00:00:00</th>\n",
              "      <td>909.468989</td>\n",
              "      <td>32.561198</td>\n",
              "      <td>431.913889</td>\n",
              "      <td>26.572778</td>\n",
              "      <td>283.444882</td>\n",
              "      <td>120.857957</td>\n",
              "      <td>729.295651</td>\n",
              "      <td>68.369605</td>\n",
              "      <td>1348.976422</td>\n",
              "      <td>669.281655</td>\n",
              "      <td>3217.018108</td>\n",
              "      <td>163.745447</td>\n",
              "    </tr>\n",
              "    <tr>\n",
              "      <th>2017-02-01 00:00:00</th>\n",
              "      <td>851.671555</td>\n",
              "      <td>30.219044</td>\n",
              "      <td>409.527222</td>\n",
              "      <td>26.163889</td>\n",
              "      <td>264.402671</td>\n",
              "      <td>111.951893</td>\n",
              "      <td>674.215247</td>\n",
              "      <td>65.843125</td>\n",
              "      <td>1301.882169</td>\n",
              "      <td>649.75143</td>\n",
              "      <td>2983.283217</td>\n",
              "      <td>155.638622</td>\n",
              "    </tr>\n",
              "    <tr>\n",
              "      <th>2017-03-01 00:00:00</th>\n",
              "      <td>937.006869</td>\n",
              "      <td>31.627483</td>\n",
              "      <td>450.847778</td>\n",
              "      <td>28.918889</td>\n",
              "      <td>276.785593</td>\n",
              "      <td>113.403368</td>\n",
              "      <td>724.049595</td>\n",
              "      <td>68.551542</td>\n",
              "      <td>1522.646</td>\n",
              "      <td>757.026179</td>\n",
              "      <td>3312.224612</td>\n",
              "      <td>170.24169</td>\n",
              "    </tr>\n",
              "    <tr>\n",
              "      <th>2017-04-01 00:00:00</th>\n",
              "      <td>935.302862</td>\n",
              "      <td>31.114598</td>\n",
              "      <td>440.086944</td>\n",
              "      <td>27.579444</td>\n",
              "      <td>236.544673</td>\n",
              "      <td>94.918867</td>\n",
              "      <td>672.173027</td>\n",
              "      <td>62.803912</td>\n",
              "      <td>1567.866984</td>\n",
              "      <td>798.109209</td>\n",
              "      <td>3119.252426</td>\n",
              "      <td>155.749329</td>\n",
              "    </tr>\n",
              "    <tr>\n",
              "      <th>...</th>\n",
              "      <td>...</td>\n",
              "      <td>...</td>\n",
              "      <td>...</td>\n",
              "      <td>...</td>\n",
              "      <td>...</td>\n",
              "      <td>...</td>\n",
              "      <td>...</td>\n",
              "      <td>...</td>\n",
              "      <td>...</td>\n",
              "      <td>...</td>\n",
              "      <td>...</td>\n",
              "      <td>...</td>\n",
              "    </tr>\n",
              "    <tr>\n",
              "      <th>2021-11-01 00:00:00</th>\n",
              "      <td>1298.971812</td>\n",
              "      <td>77.790926</td>\n",
              "      <td>540.738097</td>\n",
              "      <td>69.206467</td>\n",
              "      <td>450.314204</td>\n",
              "      <td>173.086311</td>\n",
              "      <td>1178.995674</td>\n",
              "      <td>106.21171</td>\n",
              "      <td>2569.867662</td>\n",
              "      <td>1286.520889</td>\n",
              "      <td>6107.245227</td>\n",
              "      <td>189.934389</td>\n",
              "    </tr>\n",
              "    <tr>\n",
              "      <th>2021-12-01 00:00:00</th>\n",
              "      <td>1302.302088</td>\n",
              "      <td>79.036412</td>\n",
              "      <td>553.377814</td>\n",
              "      <td>75.698561</td>\n",
              "      <td>469.638613</td>\n",
              "      <td>181.333138</td>\n",
              "      <td>1197.025564</td>\n",
              "      <td>102.101606</td>\n",
              "      <td>2581.9008</td>\n",
              "      <td>1289.824142</td>\n",
              "      <td>6068.604018</td>\n",
              "      <td>184.077807</td>\n",
              "    </tr>\n",
              "    <tr>\n",
              "      <th>2022-01-01 00:00:00</th>\n",
              "      <td>1283.338493</td>\n",
              "      <td>83.834738</td>\n",
              "      <td>525.3312</td>\n",
              "      <td>74.464933</td>\n",
              "      <td>527.337742</td>\n",
              "      <td>196.893796</td>\n",
              "      <td>1160.45293</td>\n",
              "      <td>97.263686</td>\n",
              "      <td>2477.665564</td>\n",
              "      <td>1240.617956</td>\n",
              "      <td>6508.452978</td>\n",
              "      <td>194.767029</td>\n",
              "    </tr>\n",
              "    <tr>\n",
              "      <th>2022-02-01 00:00:00</th>\n",
              "      <td>1186.832309</td>\n",
              "      <td>75.809074</td>\n",
              "      <td>497.620408</td>\n",
              "      <td>70.4872</td>\n",
              "      <td>433.366044</td>\n",
              "      <td>160.152569</td>\n",
              "      <td>1036.433161</td>\n",
              "      <td>89.849796</td>\n",
              "      <td>2288.509156</td>\n",
              "      <td>1127.767111</td>\n",
              "      <td>5955.0464</td>\n",
              "      <td>167.974653</td>\n",
              "    </tr>\n",
              "    <tr>\n",
              "      <th>2022-03-01 00:00:00</th>\n",
              "      <td>1264.905228</td>\n",
              "      <td>83.277179</td>\n",
              "      <td>520.224925</td>\n",
              "      <td>75.485156</td>\n",
              "      <td>428.701547</td>\n",
              "      <td>160.503253</td>\n",
              "      <td>1091.887881</td>\n",
              "      <td>95.845239</td>\n",
              "      <td>2498.62144</td>\n",
              "      <td>1243.674453</td>\n",
              "      <td>5780.733156</td>\n",
              "      <td>168.504398</td>\n",
              "    </tr>\n",
              "  </tbody>\n",
              "</table>\n",
              "<p>64 rows × 12 columns</p>\n",
              "</div>\n",
              "      <button class=\"colab-df-convert\" onclick=\"convertToInteractive('df-a204182d-c5ac-4211-8651-fd3e18135066')\"\n",
              "              title=\"Convert this dataframe to an interactive table.\"\n",
              "              style=\"display:none;\">\n",
              "        \n",
              "  <svg xmlns=\"http://www.w3.org/2000/svg\" height=\"24px\"viewBox=\"0 0 24 24\"\n",
              "       width=\"24px\">\n",
              "    <path d=\"M0 0h24v24H0V0z\" fill=\"none\"/>\n",
              "    <path d=\"M18.56 5.44l.94 2.06.94-2.06 2.06-.94-2.06-.94-.94-2.06-.94 2.06-2.06.94zm-11 1L8.5 8.5l.94-2.06 2.06-.94-2.06-.94L8.5 2.5l-.94 2.06-2.06.94zm10 10l.94 2.06.94-2.06 2.06-.94-2.06-.94-.94-2.06-.94 2.06-2.06.94z\"/><path d=\"M17.41 7.96l-1.37-1.37c-.4-.4-.92-.59-1.43-.59-.52 0-1.04.2-1.43.59L10.3 9.45l-7.72 7.72c-.78.78-.78 2.05 0 2.83L4 21.41c.39.39.9.59 1.41.59.51 0 1.02-.2 1.41-.59l7.78-7.78 2.81-2.81c.8-.78.8-2.07 0-2.86zM5.41 20L4 18.59l7.72-7.72 1.47 1.35L5.41 20z\"/>\n",
              "  </svg>\n",
              "      </button>\n",
              "      \n",
              "  <style>\n",
              "    .colab-df-container {\n",
              "      display:flex;\n",
              "      flex-wrap:wrap;\n",
              "      gap: 12px;\n",
              "    }\n",
              "\n",
              "    .colab-df-convert {\n",
              "      background-color: #E8F0FE;\n",
              "      border: none;\n",
              "      border-radius: 50%;\n",
              "      cursor: pointer;\n",
              "      display: none;\n",
              "      fill: #1967D2;\n",
              "      height: 32px;\n",
              "      padding: 0 0 0 0;\n",
              "      width: 32px;\n",
              "    }\n",
              "\n",
              "    .colab-df-convert:hover {\n",
              "      background-color: #E2EBFA;\n",
              "      box-shadow: 0px 1px 2px rgba(60, 64, 67, 0.3), 0px 1px 3px 1px rgba(60, 64, 67, 0.15);\n",
              "      fill: #174EA6;\n",
              "    }\n",
              "\n",
              "    [theme=dark] .colab-df-convert {\n",
              "      background-color: #3B4455;\n",
              "      fill: #D2E3FC;\n",
              "    }\n",
              "\n",
              "    [theme=dark] .colab-df-convert:hover {\n",
              "      background-color: #434B5C;\n",
              "      box-shadow: 0px 1px 3px 1px rgba(0, 0, 0, 0.15);\n",
              "      filter: drop-shadow(0px 1px 2px rgba(0, 0, 0, 0.3));\n",
              "      fill: #FFFFFF;\n",
              "    }\n",
              "  </style>\n",
              "\n",
              "      <script>\n",
              "        const buttonEl =\n",
              "          document.querySelector('#df-a204182d-c5ac-4211-8651-fd3e18135066 button.colab-df-convert');\n",
              "        buttonEl.style.display =\n",
              "          google.colab.kernel.accessAllowed ? 'block' : 'none';\n",
              "\n",
              "        async function convertToInteractive(key) {\n",
              "          const element = document.querySelector('#df-a204182d-c5ac-4211-8651-fd3e18135066');\n",
              "          const dataTable =\n",
              "            await google.colab.kernel.invokeFunction('convertToInteractive',\n",
              "                                                     [key], {});\n",
              "          if (!dataTable) return;\n",
              "\n",
              "          const docLinkHtml = 'Like what you see? Visit the ' +\n",
              "            '<a target=\"_blank\" href=https://colab.research.google.com/notebooks/data_table.ipynb>data table notebook</a>'\n",
              "            + ' to learn more about interactive tables.';\n",
              "          element.innerHTML = '';\n",
              "          dataTable['output_type'] = 'display_data';\n",
              "          await google.colab.output.renderOutput(dataTable, element);\n",
              "          const docLink = document.createElement('div');\n",
              "          docLink.innerHTML = docLinkHtml;\n",
              "          element.appendChild(docLink);\n",
              "        }\n",
              "      </script>\n",
              "    </div>\n",
              "  </div>\n",
              "  "
            ]
          },
          "metadata": {},
          "execution_count": 4
        }
      ]
    },
    {
      "cell_type": "code",
      "source": [
        "data.columns = data.loc[\"Unnamed: 0\"]"
      ],
      "metadata": {
        "id": "M5YBPGXa3wKJ"
      },
      "execution_count": 5,
      "outputs": []
    },
    {
      "cell_type": "code",
      "source": [
        "data.drop(\"Unnamed: 0\" , axis = 0 , inplace = True)"
      ],
      "metadata": {
        "id": "MmS-Gh7E34H-"
      },
      "execution_count": 6,
      "outputs": []
    },
    {
      "cell_type": "code",
      "source": [
        "data.columns"
      ],
      "metadata": {
        "colab": {
          "base_uri": "https://localhost:8080/"
        },
        "id": "FrwrNldQ34a2",
        "outputId": "8e18ea30-efa1-43ea-fc7e-5a3d75715f10"
      },
      "execution_count": 7,
      "outputs": [
        {
          "output_type": "execute_result",
          "data": {
            "text/plain": [
              "Index(['Floor Clearner', 'Cillit Bang', 'Personal Hygiene', 'Dettol',\n",
              "       'Toilet Cleaner', 'Harpic', 'Home Cleaner', 'Lysol', 'Insecticides',\n",
              "       'Mortein', 'Detergents', 'Vanish'],\n",
              "      dtype='object', name='Unnamed: 0')"
            ]
          },
          "metadata": {},
          "execution_count": 7
        }
      ]
    },
    {
      "cell_type": "code",
      "source": [
        "data_col = [data.columns[i] for i in range(len(data.columns)) if i % 2 == 0]"
      ],
      "metadata": {
        "id": "ZfF3VQ1M4DyL"
      },
      "execution_count": 8,
      "outputs": []
    },
    {
      "cell_type": "code",
      "source": [
        "data_final = data[data_col]"
      ],
      "metadata": {
        "id": "8M2CByK94SeH"
      },
      "execution_count": 9,
      "outputs": []
    },
    {
      "cell_type": "code",
      "source": [
        "date = '2019-12-01'\n",
        "new = data_final[data_final.index <= datetime.datetime.strptime(date , \"%Y-%m-%d\")]\n",
        "data = new"
      ],
      "metadata": {
        "id": "HABeMcdr4VCe"
      },
      "execution_count": 10,
      "outputs": []
    },
    {
      "cell_type": "code",
      "source": [
        "data"
      ],
      "metadata": {
        "colab": {
          "base_uri": "https://localhost:8080/",
          "height": 1000
        },
        "id": "-Xtepd6lhIc0",
        "outputId": "7e1fa483-e2ca-442b-b0a8-54a1973204a0"
      },
      "execution_count": 23,
      "outputs": [
        {
          "output_type": "execute_result",
          "data": {
            "text/plain": [
              "Unnamed: 0 Floor Clearner Personal Hygiene Toilet Cleaner Home Cleaner  \\\n",
              "2017-01-01     909.468989       431.913889     283.444882   729.295651   \n",
              "2017-02-01     851.671555       409.527222     264.402671   674.215247   \n",
              "2017-03-01     937.006869       450.847778     276.785593   724.049595   \n",
              "2017-04-01     935.302862       440.086944     236.544673   672.173027   \n",
              "2017-05-01      979.92489       465.235278     223.644232   685.774392   \n",
              "2017-06-01     962.482559           449.48     198.497786   678.362451   \n",
              "2017-07-01     964.109835           454.28     209.441471   708.029559   \n",
              "2017-08-01     965.374355       448.895556     223.132313   707.186009   \n",
              "2017-09-01     942.807965       455.929167     225.954003    724.31804   \n",
              "2017-10-01     964.229222       472.382222     243.910986   746.329401   \n",
              "2017-11-01     939.121875       459.996389      293.92573     769.3488   \n",
              "2017-12-01      947.71376       465.889722     329.472962   797.903545   \n",
              "2018-01-01      1017.1069       496.423168     324.013167   825.631676   \n",
              "2018-02-01     933.804373        460.24816     296.103036   755.298448   \n",
              "2018-03-01    1048.884338       506.391342     306.335271   854.482242   \n",
              "2018-04-01    1003.558242       492.605871     255.015244   784.016287   \n",
              "2018-05-01    1040.334696       514.334739     254.054216   777.741945   \n",
              "2018-06-01    1052.423395       507.511635     232.694732   786.292862   \n",
              "2018-07-01    1072.261626       522.603779     246.793487   844.092232   \n",
              "2018-08-01    1126.096214       546.034556     278.742063   904.390928   \n",
              "2018-09-01    1051.675054       517.062382      294.40644   881.276941   \n",
              "2018-10-01    1083.997172       519.095295      319.15784   928.263618   \n",
              "2018-11-01    1070.504012       511.184951      330.80225   937.792804   \n",
              "2018-12-01    1091.930137       520.236584      365.83532   950.615328   \n",
              "2019-01-01    1108.110601       522.268303      384.62784   961.491721   \n",
              "2019-02-01    1018.905347       476.011911     368.817529   871.980279   \n",
              "2019-03-01    1098.434433       521.416392     362.739733    953.54093   \n",
              "2019-04-01    1063.179252       496.298383     299.199396   899.859058   \n",
              "2019-05-01    1078.658212       519.209067     284.883253    880.55277   \n",
              "2019-06-01    1053.341835       516.255786     255.591947   846.600249   \n",
              "2019-07-01    1069.489746        520.60455       275.9592   902.354773   \n",
              "2019-08-01    1119.240091       532.562739     295.447004   940.415336   \n",
              "2019-09-01    1061.736802       520.781972     308.626027   955.628753   \n",
              "2019-10-01    1089.729169       538.344497        340.072   997.116113   \n",
              "2019-11-01      1061.5741       535.468194     362.855289   987.781973   \n",
              "2019-12-01    1070.781377       534.849883     395.869049  1008.065327   \n",
              "\n",
              "Unnamed: 0 Insecticides   Detergents  \n",
              "2017-01-01  1348.976422  3217.018108  \n",
              "2017-02-01  1301.882169  2983.283217  \n",
              "2017-03-01     1522.646  3312.224612  \n",
              "2017-04-01  1567.866984  3119.252426  \n",
              "2017-05-01  1733.666466  3195.930195  \n",
              "2017-06-01  1727.163496  3141.037988  \n",
              "2017-07-01  1704.984925  3265.896098  \n",
              "2017-08-01  1653.918731  3288.124237  \n",
              "2017-09-01  1634.479944  3346.459473  \n",
              "2017-10-01  1678.386597  3445.686078  \n",
              "2017-11-01  1630.574236  3500.756074  \n",
              "2017-12-01  1616.859057  3531.172207  \n",
              "2018-01-01  1625.498772  3398.944044  \n",
              "2018-02-01  1493.016339  3141.601876  \n",
              "2018-03-01  1849.000188  3607.719386  \n",
              "2018-04-01  1859.374606  3317.556112  \n",
              "2018-05-01  2000.959964  3315.618439  \n",
              "2018-06-01  2028.477085  3272.131542  \n",
              "2018-07-01  2047.132944  3462.148712  \n",
              "2018-08-01  2082.581347  3662.896976  \n",
              "2018-09-01  1977.727419  3704.141366  \n",
              "2018-10-01  2042.861216  3828.123367  \n",
              "2018-11-01  1967.972668   3861.23119  \n",
              "2018-12-01  1931.949392  3835.756541  \n",
              "2019-01-01  1966.589013  4035.174969  \n",
              "2019-02-01  1798.809316  3765.247431  \n",
              "2019-03-01  2033.003662  4161.666844  \n",
              "2019-04-01  2071.586844  3937.755876  \n",
              "2019-05-01  2162.967609  3856.711964  \n",
              "2019-06-01  2150.512498   3784.11008  \n",
              "2019-07-01  2192.024462  4045.216711  \n",
              "2019-08-01  2209.726293  4365.553493  \n",
              "2019-09-01  2133.938204  4376.334507  \n",
              "2019-10-01  2150.810169  4468.808818  \n",
              "2019-11-01  2083.664498  4415.827342  \n",
              "2019-12-01  2000.250453  4380.565902  "
            ],
            "text/html": [
              "\n",
              "  <div id=\"df-e4723da7-fbc6-4abb-a712-58ebb2d61a30\">\n",
              "    <div class=\"colab-df-container\">\n",
              "      <div>\n",
              "<style scoped>\n",
              "    .dataframe tbody tr th:only-of-type {\n",
              "        vertical-align: middle;\n",
              "    }\n",
              "\n",
              "    .dataframe tbody tr th {\n",
              "        vertical-align: top;\n",
              "    }\n",
              "\n",
              "    .dataframe thead th {\n",
              "        text-align: right;\n",
              "    }\n",
              "</style>\n",
              "<table border=\"1\" class=\"dataframe\">\n",
              "  <thead>\n",
              "    <tr style=\"text-align: right;\">\n",
              "      <th>Unnamed: 0</th>\n",
              "      <th>Floor Clearner</th>\n",
              "      <th>Personal Hygiene</th>\n",
              "      <th>Toilet Cleaner</th>\n",
              "      <th>Home Cleaner</th>\n",
              "      <th>Insecticides</th>\n",
              "      <th>Detergents</th>\n",
              "    </tr>\n",
              "  </thead>\n",
              "  <tbody>\n",
              "    <tr>\n",
              "      <th>2017-01-01</th>\n",
              "      <td>909.468989</td>\n",
              "      <td>431.913889</td>\n",
              "      <td>283.444882</td>\n",
              "      <td>729.295651</td>\n",
              "      <td>1348.976422</td>\n",
              "      <td>3217.018108</td>\n",
              "    </tr>\n",
              "    <tr>\n",
              "      <th>2017-02-01</th>\n",
              "      <td>851.671555</td>\n",
              "      <td>409.527222</td>\n",
              "      <td>264.402671</td>\n",
              "      <td>674.215247</td>\n",
              "      <td>1301.882169</td>\n",
              "      <td>2983.283217</td>\n",
              "    </tr>\n",
              "    <tr>\n",
              "      <th>2017-03-01</th>\n",
              "      <td>937.006869</td>\n",
              "      <td>450.847778</td>\n",
              "      <td>276.785593</td>\n",
              "      <td>724.049595</td>\n",
              "      <td>1522.646</td>\n",
              "      <td>3312.224612</td>\n",
              "    </tr>\n",
              "    <tr>\n",
              "      <th>2017-04-01</th>\n",
              "      <td>935.302862</td>\n",
              "      <td>440.086944</td>\n",
              "      <td>236.544673</td>\n",
              "      <td>672.173027</td>\n",
              "      <td>1567.866984</td>\n",
              "      <td>3119.252426</td>\n",
              "    </tr>\n",
              "    <tr>\n",
              "      <th>2017-05-01</th>\n",
              "      <td>979.92489</td>\n",
              "      <td>465.235278</td>\n",
              "      <td>223.644232</td>\n",
              "      <td>685.774392</td>\n",
              "      <td>1733.666466</td>\n",
              "      <td>3195.930195</td>\n",
              "    </tr>\n",
              "    <tr>\n",
              "      <th>2017-06-01</th>\n",
              "      <td>962.482559</td>\n",
              "      <td>449.48</td>\n",
              "      <td>198.497786</td>\n",
              "      <td>678.362451</td>\n",
              "      <td>1727.163496</td>\n",
              "      <td>3141.037988</td>\n",
              "    </tr>\n",
              "    <tr>\n",
              "      <th>2017-07-01</th>\n",
              "      <td>964.109835</td>\n",
              "      <td>454.28</td>\n",
              "      <td>209.441471</td>\n",
              "      <td>708.029559</td>\n",
              "      <td>1704.984925</td>\n",
              "      <td>3265.896098</td>\n",
              "    </tr>\n",
              "    <tr>\n",
              "      <th>2017-08-01</th>\n",
              "      <td>965.374355</td>\n",
              "      <td>448.895556</td>\n",
              "      <td>223.132313</td>\n",
              "      <td>707.186009</td>\n",
              "      <td>1653.918731</td>\n",
              "      <td>3288.124237</td>\n",
              "    </tr>\n",
              "    <tr>\n",
              "      <th>2017-09-01</th>\n",
              "      <td>942.807965</td>\n",
              "      <td>455.929167</td>\n",
              "      <td>225.954003</td>\n",
              "      <td>724.31804</td>\n",
              "      <td>1634.479944</td>\n",
              "      <td>3346.459473</td>\n",
              "    </tr>\n",
              "    <tr>\n",
              "      <th>2017-10-01</th>\n",
              "      <td>964.229222</td>\n",
              "      <td>472.382222</td>\n",
              "      <td>243.910986</td>\n",
              "      <td>746.329401</td>\n",
              "      <td>1678.386597</td>\n",
              "      <td>3445.686078</td>\n",
              "    </tr>\n",
              "    <tr>\n",
              "      <th>2017-11-01</th>\n",
              "      <td>939.121875</td>\n",
              "      <td>459.996389</td>\n",
              "      <td>293.92573</td>\n",
              "      <td>769.3488</td>\n",
              "      <td>1630.574236</td>\n",
              "      <td>3500.756074</td>\n",
              "    </tr>\n",
              "    <tr>\n",
              "      <th>2017-12-01</th>\n",
              "      <td>947.71376</td>\n",
              "      <td>465.889722</td>\n",
              "      <td>329.472962</td>\n",
              "      <td>797.903545</td>\n",
              "      <td>1616.859057</td>\n",
              "      <td>3531.172207</td>\n",
              "    </tr>\n",
              "    <tr>\n",
              "      <th>2018-01-01</th>\n",
              "      <td>1017.1069</td>\n",
              "      <td>496.423168</td>\n",
              "      <td>324.013167</td>\n",
              "      <td>825.631676</td>\n",
              "      <td>1625.498772</td>\n",
              "      <td>3398.944044</td>\n",
              "    </tr>\n",
              "    <tr>\n",
              "      <th>2018-02-01</th>\n",
              "      <td>933.804373</td>\n",
              "      <td>460.24816</td>\n",
              "      <td>296.103036</td>\n",
              "      <td>755.298448</td>\n",
              "      <td>1493.016339</td>\n",
              "      <td>3141.601876</td>\n",
              "    </tr>\n",
              "    <tr>\n",
              "      <th>2018-03-01</th>\n",
              "      <td>1048.884338</td>\n",
              "      <td>506.391342</td>\n",
              "      <td>306.335271</td>\n",
              "      <td>854.482242</td>\n",
              "      <td>1849.000188</td>\n",
              "      <td>3607.719386</td>\n",
              "    </tr>\n",
              "    <tr>\n",
              "      <th>2018-04-01</th>\n",
              "      <td>1003.558242</td>\n",
              "      <td>492.605871</td>\n",
              "      <td>255.015244</td>\n",
              "      <td>784.016287</td>\n",
              "      <td>1859.374606</td>\n",
              "      <td>3317.556112</td>\n",
              "    </tr>\n",
              "    <tr>\n",
              "      <th>2018-05-01</th>\n",
              "      <td>1040.334696</td>\n",
              "      <td>514.334739</td>\n",
              "      <td>254.054216</td>\n",
              "      <td>777.741945</td>\n",
              "      <td>2000.959964</td>\n",
              "      <td>3315.618439</td>\n",
              "    </tr>\n",
              "    <tr>\n",
              "      <th>2018-06-01</th>\n",
              "      <td>1052.423395</td>\n",
              "      <td>507.511635</td>\n",
              "      <td>232.694732</td>\n",
              "      <td>786.292862</td>\n",
              "      <td>2028.477085</td>\n",
              "      <td>3272.131542</td>\n",
              "    </tr>\n",
              "    <tr>\n",
              "      <th>2018-07-01</th>\n",
              "      <td>1072.261626</td>\n",
              "      <td>522.603779</td>\n",
              "      <td>246.793487</td>\n",
              "      <td>844.092232</td>\n",
              "      <td>2047.132944</td>\n",
              "      <td>3462.148712</td>\n",
              "    </tr>\n",
              "    <tr>\n",
              "      <th>2018-08-01</th>\n",
              "      <td>1126.096214</td>\n",
              "      <td>546.034556</td>\n",
              "      <td>278.742063</td>\n",
              "      <td>904.390928</td>\n",
              "      <td>2082.581347</td>\n",
              "      <td>3662.896976</td>\n",
              "    </tr>\n",
              "    <tr>\n",
              "      <th>2018-09-01</th>\n",
              "      <td>1051.675054</td>\n",
              "      <td>517.062382</td>\n",
              "      <td>294.40644</td>\n",
              "      <td>881.276941</td>\n",
              "      <td>1977.727419</td>\n",
              "      <td>3704.141366</td>\n",
              "    </tr>\n",
              "    <tr>\n",
              "      <th>2018-10-01</th>\n",
              "      <td>1083.997172</td>\n",
              "      <td>519.095295</td>\n",
              "      <td>319.15784</td>\n",
              "      <td>928.263618</td>\n",
              "      <td>2042.861216</td>\n",
              "      <td>3828.123367</td>\n",
              "    </tr>\n",
              "    <tr>\n",
              "      <th>2018-11-01</th>\n",
              "      <td>1070.504012</td>\n",
              "      <td>511.184951</td>\n",
              "      <td>330.80225</td>\n",
              "      <td>937.792804</td>\n",
              "      <td>1967.972668</td>\n",
              "      <td>3861.23119</td>\n",
              "    </tr>\n",
              "    <tr>\n",
              "      <th>2018-12-01</th>\n",
              "      <td>1091.930137</td>\n",
              "      <td>520.236584</td>\n",
              "      <td>365.83532</td>\n",
              "      <td>950.615328</td>\n",
              "      <td>1931.949392</td>\n",
              "      <td>3835.756541</td>\n",
              "    </tr>\n",
              "    <tr>\n",
              "      <th>2019-01-01</th>\n",
              "      <td>1108.110601</td>\n",
              "      <td>522.268303</td>\n",
              "      <td>384.62784</td>\n",
              "      <td>961.491721</td>\n",
              "      <td>1966.589013</td>\n",
              "      <td>4035.174969</td>\n",
              "    </tr>\n",
              "    <tr>\n",
              "      <th>2019-02-01</th>\n",
              "      <td>1018.905347</td>\n",
              "      <td>476.011911</td>\n",
              "      <td>368.817529</td>\n",
              "      <td>871.980279</td>\n",
              "      <td>1798.809316</td>\n",
              "      <td>3765.247431</td>\n",
              "    </tr>\n",
              "    <tr>\n",
              "      <th>2019-03-01</th>\n",
              "      <td>1098.434433</td>\n",
              "      <td>521.416392</td>\n",
              "      <td>362.739733</td>\n",
              "      <td>953.54093</td>\n",
              "      <td>2033.003662</td>\n",
              "      <td>4161.666844</td>\n",
              "    </tr>\n",
              "    <tr>\n",
              "      <th>2019-04-01</th>\n",
              "      <td>1063.179252</td>\n",
              "      <td>496.298383</td>\n",
              "      <td>299.199396</td>\n",
              "      <td>899.859058</td>\n",
              "      <td>2071.586844</td>\n",
              "      <td>3937.755876</td>\n",
              "    </tr>\n",
              "    <tr>\n",
              "      <th>2019-05-01</th>\n",
              "      <td>1078.658212</td>\n",
              "      <td>519.209067</td>\n",
              "      <td>284.883253</td>\n",
              "      <td>880.55277</td>\n",
              "      <td>2162.967609</td>\n",
              "      <td>3856.711964</td>\n",
              "    </tr>\n",
              "    <tr>\n",
              "      <th>2019-06-01</th>\n",
              "      <td>1053.341835</td>\n",
              "      <td>516.255786</td>\n",
              "      <td>255.591947</td>\n",
              "      <td>846.600249</td>\n",
              "      <td>2150.512498</td>\n",
              "      <td>3784.11008</td>\n",
              "    </tr>\n",
              "    <tr>\n",
              "      <th>2019-07-01</th>\n",
              "      <td>1069.489746</td>\n",
              "      <td>520.60455</td>\n",
              "      <td>275.9592</td>\n",
              "      <td>902.354773</td>\n",
              "      <td>2192.024462</td>\n",
              "      <td>4045.216711</td>\n",
              "    </tr>\n",
              "    <tr>\n",
              "      <th>2019-08-01</th>\n",
              "      <td>1119.240091</td>\n",
              "      <td>532.562739</td>\n",
              "      <td>295.447004</td>\n",
              "      <td>940.415336</td>\n",
              "      <td>2209.726293</td>\n",
              "      <td>4365.553493</td>\n",
              "    </tr>\n",
              "    <tr>\n",
              "      <th>2019-09-01</th>\n",
              "      <td>1061.736802</td>\n",
              "      <td>520.781972</td>\n",
              "      <td>308.626027</td>\n",
              "      <td>955.628753</td>\n",
              "      <td>2133.938204</td>\n",
              "      <td>4376.334507</td>\n",
              "    </tr>\n",
              "    <tr>\n",
              "      <th>2019-10-01</th>\n",
              "      <td>1089.729169</td>\n",
              "      <td>538.344497</td>\n",
              "      <td>340.072</td>\n",
              "      <td>997.116113</td>\n",
              "      <td>2150.810169</td>\n",
              "      <td>4468.808818</td>\n",
              "    </tr>\n",
              "    <tr>\n",
              "      <th>2019-11-01</th>\n",
              "      <td>1061.5741</td>\n",
              "      <td>535.468194</td>\n",
              "      <td>362.855289</td>\n",
              "      <td>987.781973</td>\n",
              "      <td>2083.664498</td>\n",
              "      <td>4415.827342</td>\n",
              "    </tr>\n",
              "    <tr>\n",
              "      <th>2019-12-01</th>\n",
              "      <td>1070.781377</td>\n",
              "      <td>534.849883</td>\n",
              "      <td>395.869049</td>\n",
              "      <td>1008.065327</td>\n",
              "      <td>2000.250453</td>\n",
              "      <td>4380.565902</td>\n",
              "    </tr>\n",
              "  </tbody>\n",
              "</table>\n",
              "</div>\n",
              "      <button class=\"colab-df-convert\" onclick=\"convertToInteractive('df-e4723da7-fbc6-4abb-a712-58ebb2d61a30')\"\n",
              "              title=\"Convert this dataframe to an interactive table.\"\n",
              "              style=\"display:none;\">\n",
              "        \n",
              "  <svg xmlns=\"http://www.w3.org/2000/svg\" height=\"24px\"viewBox=\"0 0 24 24\"\n",
              "       width=\"24px\">\n",
              "    <path d=\"M0 0h24v24H0V0z\" fill=\"none\"/>\n",
              "    <path d=\"M18.56 5.44l.94 2.06.94-2.06 2.06-.94-2.06-.94-.94-2.06-.94 2.06-2.06.94zm-11 1L8.5 8.5l.94-2.06 2.06-.94-2.06-.94L8.5 2.5l-.94 2.06-2.06.94zm10 10l.94 2.06.94-2.06 2.06-.94-2.06-.94-.94-2.06-.94 2.06-2.06.94z\"/><path d=\"M17.41 7.96l-1.37-1.37c-.4-.4-.92-.59-1.43-.59-.52 0-1.04.2-1.43.59L10.3 9.45l-7.72 7.72c-.78.78-.78 2.05 0 2.83L4 21.41c.39.39.9.59 1.41.59.51 0 1.02-.2 1.41-.59l7.78-7.78 2.81-2.81c.8-.78.8-2.07 0-2.86zM5.41 20L4 18.59l7.72-7.72 1.47 1.35L5.41 20z\"/>\n",
              "  </svg>\n",
              "      </button>\n",
              "      \n",
              "  <style>\n",
              "    .colab-df-container {\n",
              "      display:flex;\n",
              "      flex-wrap:wrap;\n",
              "      gap: 12px;\n",
              "    }\n",
              "\n",
              "    .colab-df-convert {\n",
              "      background-color: #E8F0FE;\n",
              "      border: none;\n",
              "      border-radius: 50%;\n",
              "      cursor: pointer;\n",
              "      display: none;\n",
              "      fill: #1967D2;\n",
              "      height: 32px;\n",
              "      padding: 0 0 0 0;\n",
              "      width: 32px;\n",
              "    }\n",
              "\n",
              "    .colab-df-convert:hover {\n",
              "      background-color: #E2EBFA;\n",
              "      box-shadow: 0px 1px 2px rgba(60, 64, 67, 0.3), 0px 1px 3px 1px rgba(60, 64, 67, 0.15);\n",
              "      fill: #174EA6;\n",
              "    }\n",
              "\n",
              "    [theme=dark] .colab-df-convert {\n",
              "      background-color: #3B4455;\n",
              "      fill: #D2E3FC;\n",
              "    }\n",
              "\n",
              "    [theme=dark] .colab-df-convert:hover {\n",
              "      background-color: #434B5C;\n",
              "      box-shadow: 0px 1px 3px 1px rgba(0, 0, 0, 0.15);\n",
              "      filter: drop-shadow(0px 1px 2px rgba(0, 0, 0, 0.3));\n",
              "      fill: #FFFFFF;\n",
              "    }\n",
              "  </style>\n",
              "\n",
              "      <script>\n",
              "        const buttonEl =\n",
              "          document.querySelector('#df-e4723da7-fbc6-4abb-a712-58ebb2d61a30 button.colab-df-convert');\n",
              "        buttonEl.style.display =\n",
              "          google.colab.kernel.accessAllowed ? 'block' : 'none';\n",
              "\n",
              "        async function convertToInteractive(key) {\n",
              "          const element = document.querySelector('#df-e4723da7-fbc6-4abb-a712-58ebb2d61a30');\n",
              "          const dataTable =\n",
              "            await google.colab.kernel.invokeFunction('convertToInteractive',\n",
              "                                                     [key], {});\n",
              "          if (!dataTable) return;\n",
              "\n",
              "          const docLinkHtml = 'Like what you see? Visit the ' +\n",
              "            '<a target=\"_blank\" href=https://colab.research.google.com/notebooks/data_table.ipynb>data table notebook</a>'\n",
              "            + ' to learn more about interactive tables.';\n",
              "          element.innerHTML = '';\n",
              "          dataTable['output_type'] = 'display_data';\n",
              "          await google.colab.output.renderOutput(dataTable, element);\n",
              "          const docLink = document.createElement('div');\n",
              "          docLink.innerHTML = docLinkHtml;\n",
              "          element.appendChild(docLink);\n",
              "        }\n",
              "      </script>\n",
              "    </div>\n",
              "  </div>\n",
              "  "
            ]
          },
          "metadata": {},
          "execution_count": 23
        }
      ]
    },
    {
      "cell_type": "code",
      "source": [
        "data['Floor Clearner'].plot()"
      ],
      "metadata": {
        "colab": {
          "base_uri": "https://localhost:8080/",
          "height": 295
        },
        "id": "kuPmbb0_4YWn",
        "outputId": "c5ab1fa4-147f-4ea8-bf61-050436b0c151"
      },
      "execution_count": 11,
      "outputs": [
        {
          "output_type": "execute_result",
          "data": {
            "text/plain": [
              "<matplotlib.axes._subplots.AxesSubplot at 0x7f5ca63bdb90>"
            ]
          },
          "metadata": {},
          "execution_count": 11
        },
        {
          "output_type": "display_data",
          "data": {
            "text/plain": [
              "<Figure size 432x288 with 1 Axes>"
            ],
            "image/png": "[encoded data removed]"
          },
          "metadata": {
            "needs_background": "light"
          }
        }
      ]
    },
    {
      "cell_type": "code",
      "source": [
        "data['Personal Hygiene'].plot()"
      ],
      "metadata": {
        "colab": {
          "base_uri": "https://localhost:8080/",
          "height": 295
        },
        "id": "g1vXFUJ44cyo",
        "outputId": "3ab2928a-ee70-4d2b-a8f8-ee8d1f201157"
      },
      "execution_count": 12,
      "outputs": [
        {
          "output_type": "execute_result",
          "data": {
            "text/plain": [
              "<matplotlib.axes._subplots.AxesSubplot at 0x7f5ca521c390>"
            ]
          },
          "metadata": {},
          "execution_count": 12
        },
        {
          "output_type": "display_data",
          "data": {
            "text/plain": [
              "<Figure size 432x288 with 1 Axes>"
            ],
            "image/png": "[encoded data removed]"
          },
          "metadata": {
            "needs_background": "light"
          }
        }
      ]
    },
    {
      "cell_type": "code",
      "source": [
        "data.index = pd.to_datetime(data.index)"
      ],
      "metadata": {
        "id": "c-sevNWi5EG5"
      },
      "execution_count": 13,
      "outputs": []
    },
    {
      "cell_type": "code",
      "source": [
        "result = seasonal_decompose(data['Floor Clearner'] , model = 'additive')"
      ],
      "metadata": {
        "id": "7hCxHbrw4gm8"
      },
      "execution_count": 14,
      "outputs": []
    },
    {
      "cell_type": "code",
      "source": [
        "result.seasonal.plot()"
      ],
      "metadata": {
        "colab": {
          "base_uri": "https://localhost:8080/",
          "height": 295
        },
        "id": "QFhSXnJJ48do",
        "outputId": "fbb6cf72-a240-4a83-ae27-680c765b6e33"
      },
      "execution_count": 15,
      "outputs": [
        {
          "output_type": "execute_result",
          "data": {
            "text/plain": [
              "<matplotlib.axes._subplots.AxesSubplot at 0x7f5ca4d05f90>"
            ]
          },
          "metadata": {},
          "execution_count": 15
        },
        {
          "output_type": "display_data",
          "data": {
            "text/plain": [
              "<Figure size 432x288 with 1 Axes>"
            ],
            "image/png": "[encoded data removed]"
          },
          "metadata": {
            "needs_background": "light"
          }
        }
      ]
    },
    {
      "cell_type": "code",
      "source": [
        "result.trend.plot()"
      ],
      "metadata": {
        "colab": {
          "base_uri": "https://localhost:8080/",
          "height": 295
        },
        "id": "tdd6c6hi5Tq0",
        "outputId": "63c27c7f-00e8-48e6-ad1d-435453299feb"
      },
      "execution_count": 16,
      "outputs": [
        {
          "output_type": "execute_result",
          "data": {
            "text/plain": [
              "<matplotlib.axes._subplots.AxesSubplot at 0x7f5ca4be0c50>"
            ]
          },
          "metadata": {},
          "execution_count": 16
        },
        {
          "output_type": "display_data",
          "data": {
            "text/plain": [
              "<Figure size 432x288 with 1 Axes>"
            ],
            "image/png": "[encoded data removed]"
          },
          "metadata": {
            "needs_background": "light"
          }
        }
      ]
    },
    {
      "cell_type": "code",
      "source": [
        "res = adfuller(data['Floor Clearner'])"
      ],
      "metadata": {
        "id": "b8lSxdqx5gzv"
      },
      "execution_count": 17,
      "outputs": []
    },
    {
      "cell_type": "code",
      "source": [
        "plot_acf(data['Floor Clearner']);"
      ],
      "metadata": {
        "colab": {
          "base_uri": "https://localhost:8080/",
          "height": 281
        },
        "id": "U7IU0HhZ5lvN",
        "outputId": "0244b527-2baf-40a3-ff1c-347adbbce11e"
      },
      "execution_count": 18,
      "outputs": [
        {
          "output_type": "display_data",
          "data": {
            "text/plain": [
              "<Figure size 432x288 with 1 Axes>"
            ],
            "image/png": "[encoded data removed]"
          },
          "metadata": {
            "needs_background": "light"
          }
        }
      ]
    },
    {
      "cell_type": "code",
      "source": [
        "plot_pacf(data['Floor Clearner']);"
      ],
      "metadata": {
        "colab": {
          "base_uri": "https://localhost:8080/",
          "height": 281
        },
        "id": "b9p4goK87N5q",
        "outputId": "64ce2b85-d0a9-47dd-9d28-aea436b07904"
      },
      "execution_count": 19,
      "outputs": [
        {
          "output_type": "display_data",
          "data": {
            "text/plain": [
              "<Figure size 432x288 with 1 Axes>"
            ],
            "image/png": "[encoded data removed]"
          },
          "metadata": {
            "needs_background": "light"
          }
        }
      ]
    },
    {
      "cell_type": "code",
      "source": [
        "X = data['Floor Clearner'].iloc[:-1]\n",
        "Y = data['Floor Clearner'].iloc[1:]\n",
        "X = np.array(X)\n",
        "X = X.reshape(-1,1)\n",
        "Y = np.array(Y).reshape(-1,1)"
      ],
      "metadata": {
        "id": "WrTy0-j78HOr"
      },
      "execution_count": 20,
      "outputs": []
    },
    {
      "cell_type": "code",
      "source": [],
      "metadata": {
        "id": "2fuGo2-H9luE"
      },
      "execution_count": 20,
      "outputs": []
    },
    {
      "cell_type": "code",
      "source": [
        "regressor = XGBRegressor()\n",
        "regressor.fit(X,Y)"
      ],
      "metadata": {
        "colab": {
          "base_uri": "https://localhost:8080/"
        },
        "id": "d2Oi8GuU8hpe",
        "outputId": "a700bc6b-a3d6-4c51-e019-12e2f0f7525b"
      },
      "execution_count": 21,
      "outputs": [
        {
          "output_type": "stream",
          "name": "stdout",
          "text": [
            "[16:53:09] WARNING: /workspace/src/objective/regression_obj.cu:152: reg:linear is now deprecated in favor of reg:squarederror.\n"
          ]
        },
        {
          "output_type": "execute_result",
          "data": {
            "text/plain": [
              "XGBRegressor()"
            ]
          },
          "metadata": {},
          "execution_count": 21
        }
      ]
    },
    {
      "cell_type": "code",
      "source": [
        "Y_pred = regressor.predict(X)\n",
        "\n",
        "plt.plot(X , color = 'red')\n",
        "plt.plot(Y_pred , color = 'blue')"
      ],
      "metadata": {
        "colab": {
          "base_uri": "https://localhost:8080/",
          "height": 283
        },
        "id": "Ic-zZ1u18nKj",
        "outputId": "8811b371-b210-4a6e-d50c-816550fc30be"
      },
      "execution_count": 22,
      "outputs": [
        {
          "output_type": "execute_result",
          "data": {
            "text/plain": [
              "[<matplotlib.lines.Line2D at 0x7f5ca4b34290>]"
            ]
          },
          "metadata": {},
          "execution_count": 22
        },
        {
          "output_type": "display_data",
          "data": {
            "text/plain": [
              "<Figure size 432x288 with 1 Axes>"
            ],
            "image/png": "[encoded data removed]"
          },
          "metadata": {
            "needs_background": "light"
          }
        }
      ]
    },
    {
      "cell_type": "code",
      "source": [],
      "metadata": {
        "id": "CItUq5ge8oY_"
      },
      "execution_count": 22,
      "outputs": []
    }
  ]
}